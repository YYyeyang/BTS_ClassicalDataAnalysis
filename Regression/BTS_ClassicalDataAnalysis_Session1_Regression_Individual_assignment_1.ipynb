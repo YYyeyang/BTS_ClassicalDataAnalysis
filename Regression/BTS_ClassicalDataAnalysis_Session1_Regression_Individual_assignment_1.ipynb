{
 "cells": [
  {
   "cell_type": "markdown",
   "metadata": {},
   "source": [
    "# Subject: Classical Data Analysis\n",
    "\n",
    "## Session 1 - Regression\n",
    "\n",
    "### Individual assignment 1\n",
    "\n",
    "Develop a regression analysis in Statmodels (with and without a constant) and SKLearn, based on the Iris sklearn dataset. This data sets consists of 3 different types of irises’ (Setosa, Versicolour, and Virginica) petal and sepal length.\n",
    "\n",
    "See here for more information on this dataset: https://en.wikipedia.org/wiki/Iris_flower_data_set \n",
    "\n",
    "Use the field “sepal width (cm)” as independent variable and the field “sepal length (cm)” as dependent variable.\n",
    "\n",
    "- Interpret and discuss the OLS Regression Results.\n",
    "- Commit scripts in your GitHub account. You should export your solution code (.ipynb notebook) and push it to your repository “ClassicalDataAnalysis”.\n",
    "\n",
    "The following are the tasks that should complete and synchronize with your repository “ClassicalDataAnalysis” until October 13. Please notice that none of these tasks is graded, however it’s important that you correctly understand and complete them in order to be sure that you won’t have problems with further assignments."
   ]
  },
  {
   "cell_type": "markdown",
   "metadata": {},
   "source": [
    "# Linear Regression in Statsmodels"
   ]
  },
  {
   "cell_type": "markdown",
   "metadata": {},
   "source": [
    "## Load the iris dataset"
   ]
  },
  {
   "cell_type": "code",
   "execution_count": 1,
   "metadata": {},
   "outputs": [
    {
     "name": "stderr",
     "output_type": "stream",
     "text": [
      "Y:\\BTS\\Program\\lib\\site-packages\\statsmodels\\compat\\pandas.py:56: FutureWarning: The pandas.core.datetools module is deprecated and will be removed in a future version. Please use the pandas.tseries module instead.\n",
      "  from pandas.core import datetools\n"
     ]
    }
   ],
   "source": [
    "from sklearn import linear_model\n",
    "from sklearn import datasets\n",
    "import matplotlib.pyplot as plt\n",
    "import numpy as np\n",
    "import statsmodels.api as sm\n",
    "import pandas as pd"
   ]
  },
  {
   "cell_type": "code",
   "execution_count": 2,
   "metadata": {
    "collapsed": true
   },
   "outputs": [],
   "source": [
    "iris = datasets.load_iris()"
   ]
  },
  {
   "cell_type": "code",
   "execution_count": 3,
   "metadata": {
    "collapsed": true
   },
   "outputs": [],
   "source": [
    "# why cant i do: iris.head()????"
   ]
  },
  {
   "cell_type": "code",
   "execution_count": 4,
   "metadata": {},
   "outputs": [
    {
     "data": {
      "text/plain": [
       "['sepal length (cm)',\n",
       " 'sepal width (cm)',\n",
       " 'petal length (cm)',\n",
       " 'petal width (cm)']"
      ]
     },
     "execution_count": 4,
     "metadata": {},
     "output_type": "execute_result"
    }
   ],
   "source": [
    "iris.feature_names"
   ]
  },
  {
   "cell_type": "markdown",
   "metadata": {},
   "source": [
    "### Regression model with Statsmodels and without a constant:"
   ]
  },
  {
   "cell_type": "code",
   "execution_count": 5,
   "metadata": {
    "collapsed": true
   },
   "outputs": [],
   "source": [
    "df = pd.DataFrame(iris.data, columns=iris.feature_names) "
   ]
  },
  {
   "cell_type": "code",
   "execution_count": 6,
   "metadata": {
    "scrolled": true
   },
   "outputs": [
    {
     "data": {
      "text/html": [
       "<div>\n",
       "<style>\n",
       "    .dataframe thead tr:only-child th {\n",
       "        text-align: right;\n",
       "    }\n",
       "\n",
       "    .dataframe thead th {\n",
       "        text-align: left;\n",
       "    }\n",
       "\n",
       "    .dataframe tbody tr th {\n",
       "        vertical-align: top;\n",
       "    }\n",
       "</style>\n",
       "<table border=\"1\" class=\"dataframe\">\n",
       "  <thead>\n",
       "    <tr style=\"text-align: right;\">\n",
       "      <th></th>\n",
       "      <th>sepal length (cm)</th>\n",
       "      <th>sepal width (cm)</th>\n",
       "      <th>petal length (cm)</th>\n",
       "      <th>petal width (cm)</th>\n",
       "    </tr>\n",
       "  </thead>\n",
       "  <tbody>\n",
       "    <tr>\n",
       "      <th>0</th>\n",
       "      <td>5.1</td>\n",
       "      <td>3.5</td>\n",
       "      <td>1.4</td>\n",
       "      <td>0.2</td>\n",
       "    </tr>\n",
       "    <tr>\n",
       "      <th>1</th>\n",
       "      <td>4.9</td>\n",
       "      <td>3.0</td>\n",
       "      <td>1.4</td>\n",
       "      <td>0.2</td>\n",
       "    </tr>\n",
       "    <tr>\n",
       "      <th>2</th>\n",
       "      <td>4.7</td>\n",
       "      <td>3.2</td>\n",
       "      <td>1.3</td>\n",
       "      <td>0.2</td>\n",
       "    </tr>\n",
       "    <tr>\n",
       "      <th>3</th>\n",
       "      <td>4.6</td>\n",
       "      <td>3.1</td>\n",
       "      <td>1.5</td>\n",
       "      <td>0.2</td>\n",
       "    </tr>\n",
       "    <tr>\n",
       "      <th>4</th>\n",
       "      <td>5.0</td>\n",
       "      <td>3.6</td>\n",
       "      <td>1.4</td>\n",
       "      <td>0.2</td>\n",
       "    </tr>\n",
       "  </tbody>\n",
       "</table>\n",
       "</div>"
      ],
      "text/plain": [
       "   sepal length (cm)  sepal width (cm)  petal length (cm)  petal width (cm)\n",
       "0                5.1               3.5                1.4               0.2\n",
       "1                4.9               3.0                1.4               0.2\n",
       "2                4.7               3.2                1.3               0.2\n",
       "3                4.6               3.1                1.5               0.2\n",
       "4                5.0               3.6                1.4               0.2"
      ]
     },
     "execution_count": 6,
     "metadata": {},
     "output_type": "execute_result"
    }
   ],
   "source": [
    "df.head()"
   ]
  },
  {
   "cell_type": "code",
   "execution_count": 7,
   "metadata": {
    "collapsed": true
   },
   "outputs": [],
   "source": [
    "X = df[\"sepal width (cm)\"]\n",
    "y = df[\"sepal length (cm)\"]"
   ]
  },
  {
   "cell_type": "code",
   "execution_count": 8,
   "metadata": {},
   "outputs": [
    {
     "data": {
      "text/html": [
       "<table class=\"simpletable\">\n",
       "<caption>OLS Regression Results</caption>\n",
       "<tr>\n",
       "  <th>Dep. Variable:</th>    <td>sepal length (cm)</td> <th>  R-squared:         </th> <td>   0.957</td> \n",
       "</tr>\n",
       "<tr>\n",
       "  <th>Model:</th>                   <td>OLS</td>        <th>  Adj. R-squared:    </th> <td>   0.957</td> \n",
       "</tr>\n",
       "<tr>\n",
       "  <th>Method:</th>             <td>Least Squares</td>   <th>  F-statistic:       </th> <td>   3316.</td> \n",
       "</tr>\n",
       "<tr>\n",
       "  <th>Date:</th>             <td>Wed, 18 Oct 2017</td>  <th>  Prob (F-statistic):</th> <td>1.04e-103</td>\n",
       "</tr>\n",
       "<tr>\n",
       "  <th>Time:</th>                 <td>22:07:41</td>      <th>  Log-Likelihood:    </th> <td> -243.13</td> \n",
       "</tr>\n",
       "<tr>\n",
       "  <th>No. Observations:</th>      <td>   150</td>       <th>  AIC:               </th> <td>   488.3</td> \n",
       "</tr>\n",
       "<tr>\n",
       "  <th>Df Residuals:</th>          <td>   149</td>       <th>  BIC:               </th> <td>   491.3</td> \n",
       "</tr>\n",
       "<tr>\n",
       "  <th>Df Model:</th>              <td>     1</td>       <th>                     </th>     <td> </td>    \n",
       "</tr>\n",
       "<tr>\n",
       "  <th>Covariance Type:</th>      <td>nonrobust</td>     <th>                     </th>     <td> </td>    \n",
       "</tr>\n",
       "</table>\n",
       "<table class=\"simpletable\">\n",
       "<tr>\n",
       "          <td></td>            <th>coef</th>     <th>std err</th>      <th>t</th>      <th>P>|t|</th>  <th>[0.025</th>    <th>0.975]</th>  \n",
       "</tr>\n",
       "<tr>\n",
       "  <th>sepal width (cm)</th> <td>    1.8717</td> <td>    0.033</td> <td>   57.585</td> <td> 0.000</td> <td>    1.807</td> <td>    1.936</td>\n",
       "</tr>\n",
       "</table>\n",
       "<table class=\"simpletable\">\n",
       "<tr>\n",
       "  <th>Omnibus:</th>       <td>16.884</td> <th>  Durbin-Watson:     </th> <td>   0.429</td>\n",
       "</tr>\n",
       "<tr>\n",
       "  <th>Prob(Omnibus):</th> <td> 0.000</td> <th>  Jarque-Bera (JB):  </th> <td>   7.669</td>\n",
       "</tr>\n",
       "<tr>\n",
       "  <th>Skew:</th>          <td>-0.336</td> <th>  Prob(JB):          </th> <td>  0.0216</td>\n",
       "</tr>\n",
       "<tr>\n",
       "  <th>Kurtosis:</th>      <td> 2.120</td> <th>  Cond. No.          </th> <td>    1.00</td>\n",
       "</tr>\n",
       "</table>"
      ],
      "text/plain": [
       "<class 'statsmodels.iolib.summary.Summary'>\n",
       "\"\"\"\n",
       "                            OLS Regression Results                            \n",
       "==============================================================================\n",
       "Dep. Variable:      sepal length (cm)   R-squared:                       0.957\n",
       "Model:                            OLS   Adj. R-squared:                  0.957\n",
       "Method:                 Least Squares   F-statistic:                     3316.\n",
       "Date:                Wed, 18 Oct 2017   Prob (F-statistic):          1.04e-103\n",
       "Time:                        22:07:41   Log-Likelihood:                -243.13\n",
       "No. Observations:                 150   AIC:                             488.3\n",
       "Df Residuals:                     149   BIC:                             491.3\n",
       "Df Model:                           1                                         \n",
       "Covariance Type:            nonrobust                                         \n",
       "====================================================================================\n",
       "                       coef    std err          t      P>|t|      [0.025      0.975]\n",
       "------------------------------------------------------------------------------------\n",
       "sepal width (cm)     1.8717      0.033     57.585      0.000       1.807       1.936\n",
       "==============================================================================\n",
       "Omnibus:                       16.884   Durbin-Watson:                   0.429\n",
       "Prob(Omnibus):                  0.000   Jarque-Bera (JB):                7.669\n",
       "Skew:                          -0.336   Prob(JB):                       0.0216\n",
       "Kurtosis:                       2.120   Cond. No.                         1.00\n",
       "==============================================================================\n",
       "\n",
       "Warnings:\n",
       "[1] Standard Errors assume that the covariance matrix of the errors is correctly specified.\n",
       "\"\"\""
      ]
     },
     "execution_count": 8,
     "metadata": {},
     "output_type": "execute_result"
    }
   ],
   "source": [
    "model = sm.OLS(y, X).fit()\n",
    "predictions = model.predict(X)\n",
    "model.summary()"
   ]
  },
  {
   "cell_type": "markdown",
   "metadata": {},
   "source": [
    "### Interpreting the Table "
   ]
  },
  {
   "cell_type": "markdown",
   "metadata": {},
   "source": [
    "The coefficient of 1.8717 means that as sepal width increases by 1cm, sepal length increases by 1.8717cm. R-squared is only 0.957 means the model is a very good model"
   ]
  },
  {
   "cell_type": "markdown",
   "metadata": {},
   "source": [
    "### Regression model with Statsmodels and with a constant:"
   ]
  },
  {
   "cell_type": "code",
   "execution_count": 9,
   "metadata": {},
   "outputs": [
    {
     "data": {
      "text/html": [
       "<table class=\"simpletable\">\n",
       "<caption>OLS Regression Results</caption>\n",
       "<tr>\n",
       "  <th>Dep. Variable:</th>    <td>sepal length (cm)</td> <th>  R-squared:         </th> <td>   0.012</td>\n",
       "</tr>\n",
       "<tr>\n",
       "  <th>Model:</th>                   <td>OLS</td>        <th>  Adj. R-squared:    </th> <td>   0.005</td>\n",
       "</tr>\n",
       "<tr>\n",
       "  <th>Method:</th>             <td>Least Squares</td>   <th>  F-statistic:       </th> <td>   1.792</td>\n",
       "</tr>\n",
       "<tr>\n",
       "  <th>Date:</th>             <td>Wed, 18 Oct 2017</td>  <th>  Prob (F-statistic):</th>  <td> 0.183</td> \n",
       "</tr>\n",
       "<tr>\n",
       "  <th>Time:</th>                 <td>22:07:41</td>      <th>  Log-Likelihood:    </th> <td> -183.14</td>\n",
       "</tr>\n",
       "<tr>\n",
       "  <th>No. Observations:</th>      <td>   150</td>       <th>  AIC:               </th> <td>   370.3</td>\n",
       "</tr>\n",
       "<tr>\n",
       "  <th>Df Residuals:</th>          <td>   148</td>       <th>  BIC:               </th> <td>   376.3</td>\n",
       "</tr>\n",
       "<tr>\n",
       "  <th>Df Model:</th>              <td>     1</td>       <th>                     </th>     <td> </td>   \n",
       "</tr>\n",
       "<tr>\n",
       "  <th>Covariance Type:</th>      <td>nonrobust</td>     <th>                     </th>     <td> </td>   \n",
       "</tr>\n",
       "</table>\n",
       "<table class=\"simpletable\">\n",
       "<tr>\n",
       "          <td></td>            <th>coef</th>     <th>std err</th>      <th>t</th>      <th>P>|t|</th>  <th>[0.025</th>    <th>0.975]</th>  \n",
       "</tr>\n",
       "<tr>\n",
       "  <th>const</th>            <td>    6.4812</td> <td>    0.481</td> <td>   13.466</td> <td> 0.000</td> <td>    5.530</td> <td>    7.432</td>\n",
       "</tr>\n",
       "<tr>\n",
       "  <th>sepal width (cm)</th> <td>   -0.2089</td> <td>    0.156</td> <td>   -1.339</td> <td> 0.183</td> <td>   -0.517</td> <td>    0.099</td>\n",
       "</tr>\n",
       "</table>\n",
       "<table class=\"simpletable\">\n",
       "<tr>\n",
       "  <th>Omnibus:</th>       <td> 4.455</td> <th>  Durbin-Watson:     </th> <td>   0.941</td>\n",
       "</tr>\n",
       "<tr>\n",
       "  <th>Prob(Omnibus):</th> <td> 0.108</td> <th>  Jarque-Bera (JB):  </th> <td>   4.252</td>\n",
       "</tr>\n",
       "<tr>\n",
       "  <th>Skew:</th>          <td> 0.356</td> <th>  Prob(JB):          </th> <td>   0.119</td>\n",
       "</tr>\n",
       "<tr>\n",
       "  <th>Kurtosis:</th>      <td> 2.585</td> <th>  Cond. No.          </th> <td>    24.3</td>\n",
       "</tr>\n",
       "</table>"
      ],
      "text/plain": [
       "<class 'statsmodels.iolib.summary.Summary'>\n",
       "\"\"\"\n",
       "                            OLS Regression Results                            \n",
       "==============================================================================\n",
       "Dep. Variable:      sepal length (cm)   R-squared:                       0.012\n",
       "Model:                            OLS   Adj. R-squared:                  0.005\n",
       "Method:                 Least Squares   F-statistic:                     1.792\n",
       "Date:                Wed, 18 Oct 2017   Prob (F-statistic):              0.183\n",
       "Time:                        22:07:41   Log-Likelihood:                -183.14\n",
       "No. Observations:                 150   AIC:                             370.3\n",
       "Df Residuals:                     148   BIC:                             376.3\n",
       "Df Model:                           1                                         \n",
       "Covariance Type:            nonrobust                                         \n",
       "====================================================================================\n",
       "                       coef    std err          t      P>|t|      [0.025      0.975]\n",
       "------------------------------------------------------------------------------------\n",
       "const                6.4812      0.481     13.466      0.000       5.530       7.432\n",
       "sepal width (cm)    -0.2089      0.156     -1.339      0.183      -0.517       0.099\n",
       "==============================================================================\n",
       "Omnibus:                        4.455   Durbin-Watson:                   0.941\n",
       "Prob(Omnibus):                  0.108   Jarque-Bera (JB):                4.252\n",
       "Skew:                           0.356   Prob(JB):                        0.119\n",
       "Kurtosis:                       2.585   Cond. No.                         24.3\n",
       "==============================================================================\n",
       "\n",
       "Warnings:\n",
       "[1] Standard Errors assume that the covariance matrix of the errors is correctly specified.\n",
       "\"\"\""
      ]
     },
     "execution_count": 9,
     "metadata": {},
     "output_type": "execute_result"
    }
   ],
   "source": [
    "X = sm.add_constant(X)\n",
    "model = sm.OLS(y, X).fit()\n",
    "predictions = model.predict(X)\n",
    "model.summary()"
   ]
  },
  {
   "cell_type": "markdown",
   "metadata": {},
   "source": [
    "### Interpreting the Table "
   ]
  },
  {
   "cell_type": "markdown",
   "metadata": {},
   "source": [
    "We have now a sepal width-intercept at -0.2089. We also changed the slope of the RM predictor from 1.8717 to 6.4812. R-squared decreased from 0.957 to 0.012, indicating a very bad model with a constant."
   ]
  },
  {
   "cell_type": "markdown",
   "metadata": {},
   "source": [
    "# Linear Regression in SKLearn "
   ]
  },
  {
   "cell_type": "code",
   "execution_count": 10,
   "metadata": {
    "collapsed": true
   },
   "outputs": [],
   "source": [
    "from sklearn import linear_model\n",
    "from sklearn import datasets\n",
    "\n",
    "data = datasets.load_iris() "
   ]
  },
  {
   "cell_type": "code",
   "execution_count": 11,
   "metadata": {},
   "outputs": [],
   "source": [
    "df = pd.DataFrame(data.data, columns=data.feature_names)\n",
    "df2 = pd.DataFrame(df, columns=[\"sepal width (cm)\"])\n",
    "target = pd.DataFrame(df, columns=[\"sepal length (cm)\"])"
   ]
  },
  {
   "cell_type": "code",
   "execution_count": 12,
   "metadata": {},
   "outputs": [],
   "source": [
    "X = df2\n",
    "y = target"
   ]
  },
  {
   "cell_type": "code",
   "execution_count": 13,
   "metadata": {
    "collapsed": true
   },
   "outputs": [],
   "source": [
    "lm = linear_model.LinearRegression()\n",
    "model = lm.fit(X,y)"
   ]
  },
  {
   "cell_type": "code",
   "execution_count": 14,
   "metadata": {
    "collapsed": true
   },
   "outputs": [
    {
     "name": "stdout",
     "output_type": "stream",
     "text": [
      "[[ 5.75017718]\n",
      " [ 5.85461233]\n",
      " [ 5.81283827]\n",
      " [ 5.8337253 ]\n",
      " [ 5.72929015]\n",
      " [ 5.66662906]\n",
      " [ 5.77106421]\n",
      " [ 5.77106421]\n",
      " [ 5.87549936]\n",
      " [ 5.8337253 ]\n",
      " [ 5.70840312]\n",
      " [ 5.77106421]\n",
      " [ 5.85461233]\n",
      " [ 5.85461233]\n",
      " [ 5.64574204]\n",
      " [ 5.56219392]\n",
      " [ 5.66662906]\n",
      " [ 5.75017718]\n",
      " [ 5.68751609]\n",
      " [ 5.68751609]\n",
      " [ 5.77106421]\n",
      " [ 5.70840312]\n",
      " [ 5.72929015]\n",
      " [ 5.79195124]\n",
      " [ 5.77106421]\n",
      " [ 5.85461233]\n",
      " [ 5.77106421]\n",
      " [ 5.75017718]\n",
      " [ 5.77106421]\n",
      " [ 5.81283827]\n",
      " [ 5.8337253 ]\n",
      " [ 5.77106421]\n",
      " [ 5.62485501]\n",
      " [ 5.60396798]\n",
      " [ 5.8337253 ]\n",
      " [ 5.81283827]\n",
      " [ 5.75017718]\n",
      " [ 5.8337253 ]\n",
      " [ 5.85461233]\n",
      " [ 5.77106421]\n",
      " [ 5.75017718]\n",
      " [ 6.00082154]\n",
      " [ 5.81283827]\n",
      " [ 5.75017718]\n",
      " [ 5.68751609]\n",
      " [ 5.85461233]\n",
      " [ 5.68751609]\n",
      " [ 5.81283827]\n",
      " [ 5.70840312]\n",
      " [ 5.79195124]\n",
      " [ 5.81283827]\n",
      " [ 5.81283827]\n",
      " [ 5.8337253 ]\n",
      " [ 6.00082154]\n",
      " [ 5.89638639]\n",
      " [ 5.89638639]\n",
      " [ 5.79195124]\n",
      " [ 5.97993451]\n",
      " [ 5.87549936]\n",
      " [ 5.91727342]\n",
      " [ 6.06348262]\n",
      " [ 5.85461233]\n",
      " [ 6.02170856]\n",
      " [ 5.87549936]\n",
      " [ 5.87549936]\n",
      " [ 5.8337253 ]\n",
      " [ 5.85461233]\n",
      " [ 5.91727342]\n",
      " [ 6.02170856]\n",
      " [ 5.95904748]\n",
      " [ 5.81283827]\n",
      " [ 5.89638639]\n",
      " [ 5.95904748]\n",
      " [ 5.89638639]\n",
      " [ 5.87549936]\n",
      " [ 5.85461233]\n",
      " [ 5.89638639]\n",
      " [ 5.85461233]\n",
      " [ 5.87549936]\n",
      " [ 5.93816045]\n",
      " [ 5.97993451]\n",
      " [ 5.97993451]\n",
      " [ 5.91727342]\n",
      " [ 5.91727342]\n",
      " [ 5.85461233]\n",
      " [ 5.77106421]\n",
      " [ 5.8337253 ]\n",
      " [ 6.00082154]\n",
      " [ 5.85461233]\n",
      " [ 5.95904748]\n",
      " [ 5.93816045]\n",
      " [ 5.85461233]\n",
      " [ 5.93816045]\n",
      " [ 6.00082154]\n",
      " [ 5.91727342]\n",
      " [ 5.85461233]\n",
      " [ 5.87549936]\n",
      " [ 5.87549936]\n",
      " [ 5.95904748]\n",
      " [ 5.89638639]\n",
      " [ 5.79195124]\n",
      " [ 5.91727342]\n",
      " [ 5.85461233]\n",
      " [ 5.87549936]\n",
      " [ 5.85461233]\n",
      " [ 5.85461233]\n",
      " [ 5.95904748]\n",
      " [ 5.87549936]\n",
      " [ 5.95904748]\n",
      " [ 5.72929015]\n",
      " [ 5.81283827]\n",
      " [ 5.91727342]\n",
      " [ 5.85461233]\n",
      " [ 5.95904748]\n",
      " [ 5.89638639]\n",
      " [ 5.81283827]\n",
      " [ 5.85461233]\n",
      " [ 5.68751609]\n",
      " [ 5.93816045]\n",
      " [ 6.02170856]\n",
      " [ 5.81283827]\n",
      " [ 5.89638639]\n",
      " [ 5.89638639]\n",
      " [ 5.91727342]\n",
      " [ 5.79195124]\n",
      " [ 5.81283827]\n",
      " [ 5.89638639]\n",
      " [ 5.85461233]\n",
      " [ 5.89638639]\n",
      " [ 5.85461233]\n",
      " [ 5.89638639]\n",
      " [ 5.68751609]\n",
      " [ 5.89638639]\n",
      " [ 5.89638639]\n",
      " [ 5.93816045]\n",
      " [ 5.85461233]\n",
      " [ 5.77106421]\n",
      " [ 5.8337253 ]\n",
      " [ 5.85461233]\n",
      " [ 5.8337253 ]\n",
      " [ 5.8337253 ]\n",
      " [ 5.8337253 ]\n",
      " [ 5.91727342]\n",
      " [ 5.81283827]\n",
      " [ 5.79195124]\n",
      " [ 5.85461233]\n",
      " [ 5.95904748]\n",
      " [ 5.85461233]\n",
      " [ 5.77106421]\n",
      " [ 5.85461233]]\n"
     ]
    }
   ],
   "source": [
    "predictions = lm.predict(X)\n",
    "print(predictions)"
   ]
  },
  {
   "cell_type": "code",
   "execution_count": 15,
   "metadata": {},
   "outputs": [
    {
     "data": {
      "text/plain": [
       "0.011961632834767699"
      ]
     },
     "execution_count": 15,
     "metadata": {},
     "output_type": "execute_result"
    }
   ],
   "source": [
    "lm.score(X,y) "
   ]
  },
  {
   "cell_type": "code",
   "execution_count": 18,
   "metadata": {
    "scrolled": true
   },
   "outputs": [
    {
     "data": {
      "text/plain": [
       "array([[-0.20887029]])"
      ]
     },
     "execution_count": 18,
     "metadata": {},
     "output_type": "execute_result"
    }
   ],
   "source": [
    "lm.coef_"
   ]
  },
  {
   "cell_type": "code",
   "execution_count": 19,
   "metadata": {},
   "outputs": [
    {
     "data": {
      "text/plain": [
       "array([ 6.48122321])"
      ]
     },
     "execution_count": 19,
     "metadata": {},
     "output_type": "execute_result"
    }
   ],
   "source": [
    "lm.intercept_"
   ]
  }
 ],
 "metadata": {
  "kernelspec": {
   "display_name": "Python 3",
   "language": "python",
   "name": "python3"
  },
  "language_info": {
   "codemirror_mode": {
    "name": "ipython",
    "version": 3
   },
   "file_extension": ".py",
   "mimetype": "text/x-python",
   "name": "python",
   "nbconvert_exporter": "python",
   "pygments_lexer": "ipython3",
   "version": "3.6.1"
  }
 },
 "nbformat": 4,
 "nbformat_minor": 2
}
