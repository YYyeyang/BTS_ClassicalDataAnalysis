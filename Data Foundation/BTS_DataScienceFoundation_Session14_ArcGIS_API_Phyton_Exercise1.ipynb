{
 "cells": [
  {
   "cell_type": "markdown",
   "metadata": {},
   "source": [
    "# Subject: Data Science Foundation\n",
    "\n",
    "## Session 14 - ArcGIS API for Python.\n",
    "\n",
    "### Exercise 1 -  Your first notebook based on a HotSpot Analysis#"
   ]
  },
  {
   "cell_type": "markdown",
   "metadata": {},
   "source": [
    "# Lets Create a Hotspot analysis in ArcGIS Online and get our first BTS map with ArcGIS API for Phyton"
   ]
  },
  {
   "cell_type": "markdown",
   "metadata": {},
   "source": [
    "The first step is to create a hotspot layer in your ArcGIS Online account using the file \"data_export_01-2015_Bcn\" (/Session_14_DSF). Lets do together. Go to http://www.arcgis.com"
   ]
  },
  {
   "cell_type": "markdown",
   "metadata": {},
   "source": [
    "The second step is to import the ArcGIS API for Python in your notebook"
   ]
  },
  {
   "cell_type": "code",
   "execution_count": 1,
   "metadata": {
    "collapsed": true
   },
   "outputs": [],
   "source": [
    "from arcgis.gis import GIS"
   ]
  },
  {
   "cell_type": "markdown",
   "metadata": {},
   "source": [
    "To get started, create an anonymous connection to ArcGIS Online as shown below:"
   ]
  },
  {
   "cell_type": "code",
   "execution_count": 2,
   "metadata": {
    "collapsed": true
   },
   "outputs": [],
   "source": [
    "gis = GIS()"
   ]
  },
  {
   "cell_type": "markdown",
   "metadata": {},
   "source": [
    "You can search for content as shown below. Since you are connected to ArcGIS Online and as an anonymous user, the query shown below will return public content that is shared on ArcGIS Online. Lets find the mobile data and the hotspot output."
   ]
  },
  {
   "cell_type": "code",
   "execution_count": 12,
   "metadata": {
    "collapsed": true
   },
   "outputs": [],
   "source": [
    "public_content = gis.content.search(\"mobile_2015_bcn\", item_type=\"Feature Layer\", max_items=15)"
   ]
  },
  {
   "cell_type": "code",
   "execution_count": 13,
   "metadata": {},
   "outputs": [
    {
     "data": {
      "text/plain": [
       "[<Item title:\"mobile_data_2015_bcn\" type:Feature Layer Collection owner:FrancoBoni2>,\n",
       " <Item title:\"mobile_data_2015_BCN\" type:Feature Layer Collection owner:LevanBorchkhadze>,\n",
       " <Item title:\"hs_mobile_2015_bcn_LevanB\" type:Feature Layer Collection owner:LevanBorchkhadze>,\n",
       " <Item title:\"hs_mobile_2015_Bcn\" type:Feature Layer Collection owner:MariiaShcherbiakBTS>,\n",
       " <Item title:\"Hot_Spots_signal_max\" type:Feature Layer Collection owner:Duarfo02>,\n",
       " <Item title:\"Hot_Spots_signal_max\" type:Feature Layer Collection owner:christynotsoso>,\n",
       " <Item title:\"hs_mobile_2015_Bcn\" type:Feature Layer Collection owner:FSGutierres_BTS>,\n",
       " <Item title:\"hs_mobile_2015_Bcn_FB\" type:Feature Layer Collection owner:FrancoBoni2>,\n",
       " <Item title:\"mobile_data_2015_bcn\" type:Feature Layer Collection owner:rachelyap>,\n",
       " <Item title:\"mobile_data_2015_bcn\" type:Feature Layer Collection owner:christynotsoso>,\n",
       " <Item title:\"mobile_data_2015_bcn\" type:Feature Layer Collection owner:Duarfo02>,\n",
       " <Item title:\"mobile_data_2015_bcn\" type:Feature Layer Collection owner:FSGutierres_BTS>,\n",
       " <Item title:\"hotspot_mobile_data_2015_bcn_ry\" type:Feature Layer Collection owner:rachelyap>]"
      ]
     },
     "execution_count": 13,
     "metadata": {},
     "output_type": "execute_result"
    }
   ],
   "source": [
    "public_content"
   ]
  },
  {
   "cell_type": "markdown",
   "metadata": {},
   "source": [
    "The ArcGIS API for Python extends the Jupyter Notebook IDE to display ArcGIS Items in rich HTML notation. Thus, you can loop through each of the items in the search result and display it with thumbnails and metadata as shown below:"
   ]
  },
  {
   "cell_type": "code",
   "execution_count": 5,
   "metadata": {},
   "outputs": [
    {
     "data": {
      "text/html": [
       "<div class=\"item_container\" style=\"height: auto; overflow: hidden; border: 1px solid #cfcfcf; border-radius: 2px; background: #f6fafa; line-height: 1.21429em; padding: 10px;\">\n",
       "                    <div class=\"item_left\" style=\"width: 210px; float: left;\">\n",
       "                       <a href='http://www.arcgis.com/home/item.html?id=d91972bfb12d4112b7ebd0e47b7bf37b' target='_blank'>\n",
       "                        <img src='http://www.arcgis.com/sharing/rest//content/items/d91972bfb12d4112b7ebd0e47b7bf37b/info/thumbnail/ago_downloaded.png' class=\"itemThumbnail\">\n",
       "                       </a>\n",
       "                    </div>\n",
       "\n",
       "                    <div class=\"item_right\"     style=\"float: none; width: auto; overflow: hidden;\">\n",
       "                        <a href='http://www.arcgis.com/home/item.html?id=d91972bfb12d4112b7ebd0e47b7bf37b' target='_blank'><b>mobile_data_2015_bcn</b>\n",
       "                        </a>\n",
       "                        <br/><img src='http://www.arcgis.com/home/js/jsapi/esri/css/images/item_type_icons/featureshosted16.png' style=\"vertical-align:middle;\">Feature Layer Collection by FrancoBoni2\n",
       "                        <br/>Last Modified: November 17, 2017\n",
       "                        <br/>0 comments, 3 views\n",
       "                    </div>\n",
       "                </div>\n",
       "                "
      ],
      "text/plain": [
       "<Item title:\"mobile_data_2015_bcn\" type:Feature Layer Collection owner:FrancoBoni2>"
      ]
     },
     "metadata": {},
     "output_type": "display_data"
    },
    {
     "data": {
      "text/html": [
       "<div class=\"item_container\" style=\"height: auto; overflow: hidden; border: 1px solid #cfcfcf; border-radius: 2px; background: #f6fafa; line-height: 1.21429em; padding: 10px;\">\n",
       "                    <div class=\"item_left\" style=\"width: 210px; float: left;\">\n",
       "                       <a href='http://www.arcgis.com/home/item.html?id=7a9c507d9d524d88b8c060affa8797dc' target='_blank'>\n",
       "                        <img src='http://www.arcgis.com/sharing/rest//content/items/7a9c507d9d524d88b8c060affa8797dc/info/thumbnail/ago_downloaded.png' class=\"itemThumbnail\">\n",
       "                       </a>\n",
       "                    </div>\n",
       "\n",
       "                    <div class=\"item_right\"     style=\"float: none; width: auto; overflow: hidden;\">\n",
       "                        <a href='http://www.arcgis.com/home/item.html?id=7a9c507d9d524d88b8c060affa8797dc' target='_blank'><b>mobile_data_2015_BCN</b>\n",
       "                        </a>\n",
       "                        <br/><img src='http://www.arcgis.com/home/js/jsapi/esri/css/images/item_type_icons/featureshosted16.png' style=\"vertical-align:middle;\">Feature Layer Collection by LevanBorchkhadze\n",
       "                        <br/>Last Modified: November 17, 2017\n",
       "                        <br/>0 comments, 0 views\n",
       "                    </div>\n",
       "                </div>\n",
       "                "
      ],
      "text/plain": [
       "<Item title:\"mobile_data_2015_BCN\" type:Feature Layer Collection owner:LevanBorchkhadze>"
      ]
     },
     "metadata": {},
     "output_type": "display_data"
    },
    {
     "data": {
      "text/html": [
       "<div class=\"item_container\" style=\"height: auto; overflow: hidden; border: 1px solid #cfcfcf; border-radius: 2px; background: #f6fafa; line-height: 1.21429em; padding: 10px;\">\n",
       "                    <div class=\"item_left\" style=\"width: 210px; float: left;\">\n",
       "                       <a href='http://www.arcgis.com/home/item.html?id=3f842af3ae5347578824b16494858fd2' target='_blank'>\n",
       "                        <img src='http://www.arcgis.com/sharing/rest//content/items/3f842af3ae5347578824b16494858fd2/info/thumbnail/ago_downloaded.png' class=\"itemThumbnail\">\n",
       "                       </a>\n",
       "                    </div>\n",
       "\n",
       "                    <div class=\"item_right\"     style=\"float: none; width: auto; overflow: hidden;\">\n",
       "                        <a href='http://www.arcgis.com/home/item.html?id=3f842af3ae5347578824b16494858fd2' target='_blank'><b>hs_mobile_2015_bcn_LevanB</b>\n",
       "                        </a>\n",
       "                        <br/>Feature layer generated from Find Hot Spots<img src='http://www.arcgis.com/home/js/jsapi/esri/css/images/item_type_icons/featureshosted16.png' style=\"vertical-align:middle;\">Feature Layer Collection by LevanBorchkhadze\n",
       "                        <br/>Last Modified: November 17, 2017\n",
       "                        <br/>0 comments, 2 views\n",
       "                    </div>\n",
       "                </div>\n",
       "                "
      ],
      "text/plain": [
       "<Item title:\"hs_mobile_2015_bcn_LevanB\" type:Feature Layer Collection owner:LevanBorchkhadze>"
      ]
     },
     "metadata": {},
     "output_type": "display_data"
    },
    {
     "data": {
      "text/html": [
       "<div class=\"item_container\" style=\"height: auto; overflow: hidden; border: 1px solid #cfcfcf; border-radius: 2px; background: #f6fafa; line-height: 1.21429em; padding: 10px;\">\n",
       "                    <div class=\"item_left\" style=\"width: 210px; float: left;\">\n",
       "                       <a href='http://www.arcgis.com/home/item.html?id=62d32bed62c84248845f283bdab78c61' target='_blank'>\n",
       "                        <img src='http://www.arcgis.com/sharing/rest//content/items/62d32bed62c84248845f283bdab78c61/info/thumbnail/ago_downloaded.png' class=\"itemThumbnail\">\n",
       "                       </a>\n",
       "                    </div>\n",
       "\n",
       "                    <div class=\"item_right\"     style=\"float: none; width: auto; overflow: hidden;\">\n",
       "                        <a href='http://www.arcgis.com/home/item.html?id=62d32bed62c84248845f283bdab78c61' target='_blank'><b>hs_mobile_2015_Bcn</b>\n",
       "                        </a>\n",
       "                        <br/>Feature layer generated from Find Hot Spots<img src='http://www.arcgis.com/home/js/jsapi/esri/css/images/item_type_icons/featureshosted16.png' style=\"vertical-align:middle;\">Feature Layer Collection by MariiaShcherbiakBTS\n",
       "                        <br/>Last Modified: November 17, 2017\n",
       "                        <br/>0 comments, 2 views\n",
       "                    </div>\n",
       "                </div>\n",
       "                "
      ],
      "text/plain": [
       "<Item title:\"hs_mobile_2015_Bcn\" type:Feature Layer Collection owner:MariiaShcherbiakBTS>"
      ]
     },
     "metadata": {},
     "output_type": "display_data"
    },
    {
     "data": {
      "text/html": [
       "<div class=\"item_container\" style=\"height: auto; overflow: hidden; border: 1px solid #cfcfcf; border-radius: 2px; background: #f6fafa; line-height: 1.21429em; padding: 10px;\">\n",
       "                    <div class=\"item_left\" style=\"width: 210px; float: left;\">\n",
       "                       <a href='http://www.arcgis.com/home/item.html?id=c88c7e4471f54ae3bb7938b43028b6fa' target='_blank'>\n",
       "                        <img src='http://www.arcgis.com/sharing/rest//content/items/c88c7e4471f54ae3bb7938b43028b6fa/info/thumbnail/ago_downloaded.png' class=\"itemThumbnail\">\n",
       "                       </a>\n",
       "                    </div>\n",
       "\n",
       "                    <div class=\"item_right\"     style=\"float: none; width: auto; overflow: hidden;\">\n",
       "                        <a href='http://www.arcgis.com/home/item.html?id=c88c7e4471f54ae3bb7938b43028b6fa' target='_blank'><b>Hot_Spots_signal_max</b>\n",
       "                        </a>\n",
       "                        <br/>Feature layer generated from Find Hot Spots<img src='http://www.arcgis.com/home/js/jsapi/esri/css/images/item_type_icons/featureshosted16.png' style=\"vertical-align:middle;\">Feature Layer Collection by Duarfo02\n",
       "                        <br/>Last Modified: November 17, 2017\n",
       "                        <br/>0 comments, 2 views\n",
       "                    </div>\n",
       "                </div>\n",
       "                "
      ],
      "text/plain": [
       "<Item title:\"Hot_Spots_signal_max\" type:Feature Layer Collection owner:Duarfo02>"
      ]
     },
     "metadata": {},
     "output_type": "display_data"
    }
   ],
   "source": [
    "from IPython.display import display\n",
    "for item in public_content:\n",
    "    display(item)"
   ]
  },
  {
   "cell_type": "markdown",
   "metadata": {},
   "source": [
    "# Display layers on a map"
   ]
  },
  {
   "cell_type": "markdown",
   "metadata": {},
   "source": [
    "The ArcGIS API for Python adds a map widget to the Jupyter Notebook. You can easily pull up a map as shown below. It may take a few seconds for the map to display the first time."
   ]
  },
  {
   "cell_type": "code",
   "execution_count": 6,
   "metadata": {},
   "outputs": [
    {
     "data": {
      "application/vnd.jupyter.widget-view+json": {
       "model_id": "e5f24b7dc261409092acc49979893cd7"
      }
     },
     "metadata": {},
     "output_type": "display_data"
    }
   ],
   "source": [
    "# Create a map widget\n",
    "map1 = gis.map('Barcelona') # Passing a place name to the constructor\n",
    "                        # will initialize the extent of the map.\n",
    "map1"
   ]
  },
  {
   "cell_type": "markdown",
   "metadata": {},
   "source": [
    "Get the first item from your search result and add it the map you created"
   ]
  },
  {
   "cell_type": "code",
   "execution_count": 7,
   "metadata": {
    "collapsed": true
   },
   "outputs": [],
   "source": [
    "#get the first item\n",
    "Mobile_2015_Bcn_HotSpots = public_content[0]\n",
    "\n",
    "#add to map\n",
    "map1.add_layer(Mobile_2015_Bcn_HotSpots)"
   ]
  },
  {
   "cell_type": "markdown",
   "metadata": {},
   "source": [
    "# Task1: Import another Public shapefiles of your ArcGIS Online account or from the BTS group and visualize."
   ]
  },
  {
   "cell_type": "code",
   "execution_count": 14,
   "metadata": {
    "collapsed": true
   },
   "outputs": [],
   "source": [
    "public_content = gis.content.search(\"Hot_Spots_signal_max\", item_type=\"Feature Layer\", max_items=15)"
   ]
  },
  {
   "cell_type": "code",
   "execution_count": 15,
   "metadata": {},
   "outputs": [
    {
     "data": {
      "text/plain": [
       "[<Item title:\"hs_mobile_2015_Bcn\" type:Feature Layer Collection owner:MariiaShcherbiakBTS>,\n",
       " <Item title:\"Hot_Spots_signal_max\" type:Feature Layer Collection owner:Duarfo02>,\n",
       " <Item title:\"Hot_Spots_signal_max\" type:Feature Layer Collection owner:christynotsoso>,\n",
       " <Item title:\"hs_mobile_2015_Bcn\" type:Feature Layer Collection owner:FSGutierres_BTS>,\n",
       " <Item title:\"hs_mobile_2015_Bcn_FB\" type:Feature Layer Collection owner:FrancoBoni2>,\n",
       " <Item title:\"Hot_Spots_signal_max\" type:Feature Layer Collection owner:alberto.seabra>,\n",
       " <Item title:\"hotspot_mobile_data_2015_bcn_ry\" type:Feature Layer Collection owner:rachelyap>]"
      ]
     },
     "execution_count": 15,
     "metadata": {},
     "output_type": "execute_result"
    }
   ],
   "source": [
    "public_content"
   ]
  },
  {
   "cell_type": "code",
   "execution_count": 16,
   "metadata": {},
   "outputs": [
    {
     "data": {
      "text/html": [
       "<div class=\"item_container\" style=\"height: auto; overflow: hidden; border: 1px solid #cfcfcf; border-radius: 2px; background: #f6fafa; line-height: 1.21429em; padding: 10px;\">\n",
       "                    <div class=\"item_left\" style=\"width: 210px; float: left;\">\n",
       "                       <a href='http://www.arcgis.com/home/item.html?id=62d32bed62c84248845f283bdab78c61' target='_blank'>\n",
       "                        <img src='http://www.arcgis.com/sharing/rest//content/items/62d32bed62c84248845f283bdab78c61/info/thumbnail/ago_downloaded.png' class=\"itemThumbnail\">\n",
       "                       </a>\n",
       "                    </div>\n",
       "\n",
       "                    <div class=\"item_right\"     style=\"float: none; width: auto; overflow: hidden;\">\n",
       "                        <a href='http://www.arcgis.com/home/item.html?id=62d32bed62c84248845f283bdab78c61' target='_blank'><b>hs_mobile_2015_Bcn</b>\n",
       "                        </a>\n",
       "                        <br/>Feature layer generated from Find Hot Spots<img src='http://www.arcgis.com/home/js/jsapi/esri/css/images/item_type_icons/featureshosted16.png' style=\"vertical-align:middle;\">Feature Layer Collection by MariiaShcherbiakBTS\n",
       "                        <br/>Last Modified: November 17, 2017\n",
       "                        <br/>0 comments, 2 views\n",
       "                    </div>\n",
       "                </div>\n",
       "                "
      ],
      "text/plain": [
       "<Item title:\"hs_mobile_2015_Bcn\" type:Feature Layer Collection owner:MariiaShcherbiakBTS>"
      ]
     },
     "metadata": {},
     "output_type": "display_data"
    },
    {
     "data": {
      "text/html": [
       "<div class=\"item_container\" style=\"height: auto; overflow: hidden; border: 1px solid #cfcfcf; border-radius: 2px; background: #f6fafa; line-height: 1.21429em; padding: 10px;\">\n",
       "                    <div class=\"item_left\" style=\"width: 210px; float: left;\">\n",
       "                       <a href='http://www.arcgis.com/home/item.html?id=c88c7e4471f54ae3bb7938b43028b6fa' target='_blank'>\n",
       "                        <img src='http://www.arcgis.com/sharing/rest//content/items/c88c7e4471f54ae3bb7938b43028b6fa/info/thumbnail/ago_downloaded.png' class=\"itemThumbnail\">\n",
       "                       </a>\n",
       "                    </div>\n",
       "\n",
       "                    <div class=\"item_right\"     style=\"float: none; width: auto; overflow: hidden;\">\n",
       "                        <a href='http://www.arcgis.com/home/item.html?id=c88c7e4471f54ae3bb7938b43028b6fa' target='_blank'><b>Hot_Spots_signal_max</b>\n",
       "                        </a>\n",
       "                        <br/>Feature layer generated from Find Hot Spots<img src='http://www.arcgis.com/home/js/jsapi/esri/css/images/item_type_icons/featureshosted16.png' style=\"vertical-align:middle;\">Feature Layer Collection by Duarfo02\n",
       "                        <br/>Last Modified: November 17, 2017\n",
       "                        <br/>0 comments, 2 views\n",
       "                    </div>\n",
       "                </div>\n",
       "                "
      ],
      "text/plain": [
       "<Item title:\"Hot_Spots_signal_max\" type:Feature Layer Collection owner:Duarfo02>"
      ]
     },
     "metadata": {},
     "output_type": "display_data"
    },
    {
     "data": {
      "text/html": [
       "<div class=\"item_container\" style=\"height: auto; overflow: hidden; border: 1px solid #cfcfcf; border-radius: 2px; background: #f6fafa; line-height: 1.21429em; padding: 10px;\">\n",
       "                    <div class=\"item_left\" style=\"width: 210px; float: left;\">\n",
       "                       <a href='http://www.arcgis.com/home/item.html?id=2c354dbc778545178350c607168e5e32' target='_blank'>\n",
       "                        <img src='http://www.arcgis.com/sharing/rest//content/items/2c354dbc778545178350c607168e5e32/info/thumbnail/ago_downloaded.png' class=\"itemThumbnail\">\n",
       "                       </a>\n",
       "                    </div>\n",
       "\n",
       "                    <div class=\"item_right\"     style=\"float: none; width: auto; overflow: hidden;\">\n",
       "                        <a href='http://www.arcgis.com/home/item.html?id=2c354dbc778545178350c607168e5e32' target='_blank'><b>Hot_Spots_signal_max</b>\n",
       "                        </a>\n",
       "                        <br/>Feature layer generated from Find Hot Spots<img src='http://www.arcgis.com/home/js/jsapi/esri/css/images/item_type_icons/featureshosted16.png' style=\"vertical-align:middle;\">Feature Layer Collection by christynotsoso\n",
       "                        <br/>Last Modified: November 17, 2017\n",
       "                        <br/>0 comments, 2 views\n",
       "                    </div>\n",
       "                </div>\n",
       "                "
      ],
      "text/plain": [
       "<Item title:\"Hot_Spots_signal_max\" type:Feature Layer Collection owner:christynotsoso>"
      ]
     },
     "metadata": {},
     "output_type": "display_data"
    },
    {
     "data": {
      "text/html": [
       "<div class=\"item_container\" style=\"height: auto; overflow: hidden; border: 1px solid #cfcfcf; border-radius: 2px; background: #f6fafa; line-height: 1.21429em; padding: 10px;\">\n",
       "                    <div class=\"item_left\" style=\"width: 210px; float: left;\">\n",
       "                       <a href='http://www.arcgis.com/home/item.html?id=840314166c674dc7bac68d453e80886e' target='_blank'>\n",
       "                        <img src='http://www.arcgis.com/sharing/rest//content/items/840314166c674dc7bac68d453e80886e/info/thumbnail/ago_downloaded.png' class=\"itemThumbnail\">\n",
       "                       </a>\n",
       "                    </div>\n",
       "\n",
       "                    <div class=\"item_right\"     style=\"float: none; width: auto; overflow: hidden;\">\n",
       "                        <a href='http://www.arcgis.com/home/item.html?id=840314166c674dc7bac68d453e80886e' target='_blank'><b>hs_mobile_2015_Bcn</b>\n",
       "                        </a>\n",
       "                        <br/>Feature layer generated from Find Hot Spots<img src='http://www.arcgis.com/home/js/jsapi/esri/css/images/item_type_icons/featureshosted16.png' style=\"vertical-align:middle;\">Feature Layer Collection by FSGutierres_BTS\n",
       "                        <br/>Last Modified: November 17, 2017\n",
       "                        <br/>0 comments, 2 views\n",
       "                    </div>\n",
       "                </div>\n",
       "                "
      ],
      "text/plain": [
       "<Item title:\"hs_mobile_2015_Bcn\" type:Feature Layer Collection owner:FSGutierres_BTS>"
      ]
     },
     "metadata": {},
     "output_type": "display_data"
    },
    {
     "data": {
      "text/html": [
       "<div class=\"item_container\" style=\"height: auto; overflow: hidden; border: 1px solid #cfcfcf; border-radius: 2px; background: #f6fafa; line-height: 1.21429em; padding: 10px;\">\n",
       "                    <div class=\"item_left\" style=\"width: 210px; float: left;\">\n",
       "                       <a href='http://www.arcgis.com/home/item.html?id=2ee5adda96534c8d9eb2421690221954' target='_blank'>\n",
       "                        <img src='http://www.arcgis.com/sharing/rest//content/items/2ee5adda96534c8d9eb2421690221954/info/thumbnail/ago_downloaded.png' class=\"itemThumbnail\">\n",
       "                       </a>\n",
       "                    </div>\n",
       "\n",
       "                    <div class=\"item_right\"     style=\"float: none; width: auto; overflow: hidden;\">\n",
       "                        <a href='http://www.arcgis.com/home/item.html?id=2ee5adda96534c8d9eb2421690221954' target='_blank'><b>hs_mobile_2015_Bcn_FB</b>\n",
       "                        </a>\n",
       "                        <br/>Feature layer generated from Find Hot Spots<img src='http://www.arcgis.com/home/js/jsapi/esri/css/images/item_type_icons/featureshosted16.png' style=\"vertical-align:middle;\">Feature Layer Collection by FrancoBoni2\n",
       "                        <br/>Last Modified: November 17, 2017\n",
       "                        <br/>0 comments, 2 views\n",
       "                    </div>\n",
       "                </div>\n",
       "                "
      ],
      "text/plain": [
       "<Item title:\"hs_mobile_2015_Bcn_FB\" type:Feature Layer Collection owner:FrancoBoni2>"
      ]
     },
     "metadata": {},
     "output_type": "display_data"
    },
    {
     "data": {
      "text/html": [
       "<div class=\"item_container\" style=\"height: auto; overflow: hidden; border: 1px solid #cfcfcf; border-radius: 2px; background: #f6fafa; line-height: 1.21429em; padding: 10px;\">\n",
       "                    <div class=\"item_left\" style=\"width: 210px; float: left;\">\n",
       "                       <a href='http://www.arcgis.com/home/item.html?id=15fd2af1ea214d37bb19c95525128a29' target='_blank'>\n",
       "                        <img src='http://www.arcgis.com/sharing/rest//content/items/15fd2af1ea214d37bb19c95525128a29/info/thumbnail/ago_downloaded.png' class=\"itemThumbnail\">\n",
       "                       </a>\n",
       "                    </div>\n",
       "\n",
       "                    <div class=\"item_right\"     style=\"float: none; width: auto; overflow: hidden;\">\n",
       "                        <a href='http://www.arcgis.com/home/item.html?id=15fd2af1ea214d37bb19c95525128a29' target='_blank'><b>Hot_Spots_signal_max</b>\n",
       "                        </a>\n",
       "                        <br/>Feature layer generated from Find Hot Spots<img src='http://www.arcgis.com/home/js/jsapi/esri/css/images/item_type_icons/featureshosted16.png' style=\"vertical-align:middle;\">Feature Layer Collection by alberto.seabra\n",
       "                        <br/>Last Modified: November 17, 2017\n",
       "                        <br/>0 comments, 2 views\n",
       "                    </div>\n",
       "                </div>\n",
       "                "
      ],
      "text/plain": [
       "<Item title:\"Hot_Spots_signal_max\" type:Feature Layer Collection owner:alberto.seabra>"
      ]
     },
     "metadata": {},
     "output_type": "display_data"
    },
    {
     "data": {
      "text/html": [
       "<div class=\"item_container\" style=\"height: auto; overflow: hidden; border: 1px solid #cfcfcf; border-radius: 2px; background: #f6fafa; line-height: 1.21429em; padding: 10px;\">\n",
       "                    <div class=\"item_left\" style=\"width: 210px; float: left;\">\n",
       "                       <a href='http://www.arcgis.com/home/item.html?id=d5581f8b88ba4dc0990ec1cb0a0d0442' target='_blank'>\n",
       "                        <img src='http://www.arcgis.com/sharing/rest//content/items/d5581f8b88ba4dc0990ec1cb0a0d0442/info/thumbnail/ago_downloaded.png' class=\"itemThumbnail\">\n",
       "                       </a>\n",
       "                    </div>\n",
       "\n",
       "                    <div class=\"item_right\"     style=\"float: none; width: auto; overflow: hidden;\">\n",
       "                        <a href='http://www.arcgis.com/home/item.html?id=d5581f8b88ba4dc0990ec1cb0a0d0442' target='_blank'><b>hotspot_mobile_data_2015_bcn_ry</b>\n",
       "                        </a>\n",
       "                        <br/>Feature layer generated from Find Hot Spots<img src='http://www.arcgis.com/home/js/jsapi/esri/css/images/item_type_icons/featureshosted16.png' style=\"vertical-align:middle;\">Feature Layer Collection by rachelyap\n",
       "                        <br/>Last Modified: November 17, 2017\n",
       "                        <br/>0 comments, 4 views\n",
       "                    </div>\n",
       "                </div>\n",
       "                "
      ],
      "text/plain": [
       "<Item title:\"hotspot_mobile_data_2015_bcn_ry\" type:Feature Layer Collection owner:rachelyap>"
      ]
     },
     "metadata": {},
     "output_type": "display_data"
    }
   ],
   "source": [
    "from IPython.display import display\n",
    "for item in public_content:\n",
    "    display(item)"
   ]
  },
  {
   "cell_type": "code",
   "execution_count": 17,
   "metadata": {
    "collapsed": true
   },
   "outputs": [],
   "source": [
    "#get the first item\n",
    "yy = public_content[2]\n",
    "\n",
    "#add to map\n",
    "map1.add_layer(yy)"
   ]
  },
  {
   "cell_type": "code",
   "execution_count": 18,
   "metadata": {},
   "outputs": [
    {
     "data": {
      "application/vnd.jupyter.widget-view+json": {
       "model_id": "e5f24b7dc261409092acc49979893cd7"
      }
     },
     "metadata": {},
     "output_type": "display_data"
    }
   ],
   "source": [
    "map1"
   ]
  },
  {
   "cell_type": "code",
   "execution_count": 22,
   "metadata": {},
   "outputs": [
    {
     "data": {
      "text/plain": [
       "[<Item title:\"Buffer of Monuments\" type:Feature Layer Collection owner:FrancoBoni2>,\n",
       " <Item title:\"Buffer of Monuments\" type:Feature Layer Collection owner:FSGutierres_BTS>,\n",
       " <Item title:\"Buffer of Monuments\" type:Feature Layer Collection owner:Duarfo02>,\n",
       " <Item title:\"Buffer of Monuments\" type:Feature Layer Collection owner:christynotsoso>,\n",
       " <Item title:\"Buffer of AZIMUTHAL_LINEARS - hs_scheduled_monuments\" type:Feature Layer Collection owner:aidan.mclure_UofStrath>,\n",
       " <Item title:\"GRSM_BUILDINGS\" type:Feature Layer Collection owner:GRSM_GIS>,\n",
       " <Item title:\"Buffers of National Park\" type:Feature Layer Collection owner:brandon_c28>,\n",
       " <Item title:\"Buffer of Data_for_Demo1 - USGS_Monuments\" type:Feature Layer Collection owner:mikebeaversTexas.gov>,\n",
       " <Item title:\"Buffer of Monuments\" type:Feature Layer Collection owner:LevanBorchkhadze>,\n",
       " <Item title:\"Buffer of Monuments\" type:Feature Layer Collection owner:rachelyap>,\n",
       " <Item title:\"Buffer of Monuments\" type:Feature Layer Collection owner:alberto.seabra>,\n",
       " <Item title:\"Albemarle County Virginia_NGS_geodetic_control\" type:Feature Layer Collection owner:slabgis_uvalibrary>,\n",
       " <Item title:\"Intersect of Buffer of Monuments and Hotels\" type:Feature Layer Collection owner:christynotsoso>]"
      ]
     },
     "execution_count": 22,
     "metadata": {},
     "output_type": "execute_result"
    }
   ],
   "source": [
    "public_content2 = gis.content.search(\"Buffer of Monuments\", item_type=\"Feature Layer\", max_items=15)\n",
    "public_content2"
   ]
  },
  {
   "cell_type": "code",
   "execution_count": 23,
   "metadata": {
    "collapsed": true
   },
   "outputs": [],
   "source": [
    "#get the first item\n",
    "yy2 = public_content2[3]\n",
    "\n",
    "#add to map\n",
    "map1.add_layer(yy2)"
   ]
  },
  {
   "cell_type": "code",
   "execution_count": 24,
   "metadata": {},
   "outputs": [
    {
     "data": {
      "application/vnd.jupyter.widget-view+json": {
       "model_id": "e5f24b7dc261409092acc49979893cd7"
      }
     },
     "metadata": {},
     "output_type": "display_data"
    }
   ],
   "source": [
    "map1"
   ]
  }
 ],
 "metadata": {
  "kernelspec": {
   "display_name": "Python 3",
   "language": "python",
   "name": "python3"
  },
  "language_info": {
   "codemirror_mode": {
    "name": "ipython",
    "version": 3
   },
   "file_extension": ".py",
   "mimetype": "text/x-python",
   "name": "python",
   "nbconvert_exporter": "python",
   "pygments_lexer": "ipython3",
   "version": "3.6.1"
  }
 },
 "nbformat": 4,
 "nbformat_minor": 2
}
