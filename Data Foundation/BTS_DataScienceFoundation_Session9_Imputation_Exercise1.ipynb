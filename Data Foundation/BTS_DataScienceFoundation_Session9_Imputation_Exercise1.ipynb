{
 "cells": [
  {
   "cell_type": "markdown",
   "metadata": {},
   "source": [
    "# Subject: Data Science Foundation\n",
    "\n",
    "## Session 9 - Data Exploration and Imputation\n",
    "\n",
    "### Exercise 1 -  Data Exploration and Imputation for pandas Dataframe \"Bike sharing\"\n"
   ]
  },
  {
   "cell_type": "markdown",
   "metadata": {},
   "source": [
    "## 1. Import the data set \"Bike sharing\""
   ]
  },
  {
   "cell_type": "code",
   "execution_count": 1,
   "metadata": {
    "scrolled": true
   },
   "outputs": [
    {
     "data": {
      "text/html": [
       "<div>\n",
       "<style>\n",
       "    .dataframe thead tr:only-child th {\n",
       "        text-align: right;\n",
       "    }\n",
       "\n",
       "    .dataframe thead th {\n",
       "        text-align: left;\n",
       "    }\n",
       "\n",
       "    .dataframe tbody tr th {\n",
       "        vertical-align: top;\n",
       "    }\n",
       "</style>\n",
       "<table border=\"1\" class=\"dataframe\">\n",
       "  <thead>\n",
       "    <tr style=\"text-align: right;\">\n",
       "      <th></th>\n",
       "      <th>datetime</th>\n",
       "      <th>season</th>\n",
       "      <th>holiday</th>\n",
       "      <th>workingday</th>\n",
       "      <th>weather</th>\n",
       "      <th>temp</th>\n",
       "      <th>atemp</th>\n",
       "      <th>humidity</th>\n",
       "      <th>windspeed</th>\n",
       "      <th>casual</th>\n",
       "      <th>registered</th>\n",
       "      <th>count</th>\n",
       "    </tr>\n",
       "  </thead>\n",
       "  <tbody>\n",
       "    <tr>\n",
       "      <th>0</th>\n",
       "      <td>1/1/2011 0:00</td>\n",
       "      <td>1</td>\n",
       "      <td>0</td>\n",
       "      <td>0</td>\n",
       "      <td>1</td>\n",
       "      <td>9.84</td>\n",
       "      <td>14.395</td>\n",
       "      <td>81</td>\n",
       "      <td>0.0</td>\n",
       "      <td>3</td>\n",
       "      <td>13</td>\n",
       "      <td>16</td>\n",
       "    </tr>\n",
       "    <tr>\n",
       "      <th>1</th>\n",
       "      <td>1/1/2011 1:00</td>\n",
       "      <td>1</td>\n",
       "      <td>0</td>\n",
       "      <td>0</td>\n",
       "      <td>1</td>\n",
       "      <td>9.02</td>\n",
       "      <td>13.635</td>\n",
       "      <td>80</td>\n",
       "      <td>0.0</td>\n",
       "      <td>8</td>\n",
       "      <td>32</td>\n",
       "      <td>40</td>\n",
       "    </tr>\n",
       "    <tr>\n",
       "      <th>2</th>\n",
       "      <td>1/1/2011 2:00</td>\n",
       "      <td>1</td>\n",
       "      <td>0</td>\n",
       "      <td>0</td>\n",
       "      <td>1</td>\n",
       "      <td>9.02</td>\n",
       "      <td>13.635</td>\n",
       "      <td>80</td>\n",
       "      <td>0.0</td>\n",
       "      <td>5</td>\n",
       "      <td>27</td>\n",
       "      <td>32</td>\n",
       "    </tr>\n",
       "    <tr>\n",
       "      <th>3</th>\n",
       "      <td>1/1/2011 3:00</td>\n",
       "      <td>1</td>\n",
       "      <td>0</td>\n",
       "      <td>0</td>\n",
       "      <td>1</td>\n",
       "      <td>9.84</td>\n",
       "      <td>14.395</td>\n",
       "      <td>75</td>\n",
       "      <td>0.0</td>\n",
       "      <td>3</td>\n",
       "      <td>10</td>\n",
       "      <td>13</td>\n",
       "    </tr>\n",
       "    <tr>\n",
       "      <th>4</th>\n",
       "      <td>1/1/2011 4:00</td>\n",
       "      <td>1</td>\n",
       "      <td>0</td>\n",
       "      <td>0</td>\n",
       "      <td>1</td>\n",
       "      <td>9.84</td>\n",
       "      <td>14.395</td>\n",
       "      <td>75</td>\n",
       "      <td>0.0</td>\n",
       "      <td>0</td>\n",
       "      <td>1</td>\n",
       "      <td>1</td>\n",
       "    </tr>\n",
       "  </tbody>\n",
       "</table>\n",
       "</div>"
      ],
      "text/plain": [
       "        datetime  season  holiday  workingday  weather  temp   atemp  \\\n",
       "0  1/1/2011 0:00       1        0           0        1  9.84  14.395   \n",
       "1  1/1/2011 1:00       1        0           0        1  9.02  13.635   \n",
       "2  1/1/2011 2:00       1        0           0        1  9.02  13.635   \n",
       "3  1/1/2011 3:00       1        0           0        1  9.84  14.395   \n",
       "4  1/1/2011 4:00       1        0           0        1  9.84  14.395   \n",
       "\n",
       "   humidity  windspeed  casual  registered  count  \n",
       "0        81        0.0       3          13     16  \n",
       "1        80        0.0       8          32     40  \n",
       "2        80        0.0       5          27     32  \n",
       "3        75        0.0       3          10     13  \n",
       "4        75        0.0       0           1      1  "
      ]
     },
     "execution_count": 1,
     "metadata": {},
     "output_type": "execute_result"
    }
   ],
   "source": [
    "import pandas as pd\n",
    "import numpy as np\n",
    "import matplotlib.pyplot as plt\n",
    "%matplotlib inline\n",
    "df=pd.read_csv(\"Y:/GitHub/BTS_MasterInBigData-Francisco/Session_9_DSF/FileData/2_bike_sharing.csv\")\n",
    "df.head()"
   ]
  },
  {
   "cell_type": "markdown",
   "metadata": {},
   "source": [
    "## 2. Are there NA Values, Outliers or Other Strange Values? Explore the variable \"temp\"."
   ]
  },
  {
   "cell_type": "code",
   "execution_count": 2,
   "metadata": {
    "scrolled": true
   },
   "outputs": [
    {
     "data": {
      "text/plain": [
       "(array([    6,    21,    38,    43,    46,    47,    48,    68,    69,\n",
       "           70,    71,    83,    84,    85,    86,   133,   134,   135,\n",
       "          136,   137,   138,   139,   140,   141,   142,   143,   144,\n",
       "          145,   146,   147,   166,   167,   168,   169,   170,   171,\n",
       "          172,   173,   174,   175,   176,   177,   178,   199,   200,\n",
       "          201,   202,   203,   204,   205,   206,   207,   208,   209,\n",
       "          226,   227,   228,   229,   230,   231,   232,   233,   234,\n",
       "          235,   236,   268,   269,   270,   271,   272,   273,   274,\n",
       "          275,   276,   277,   278,   279,   280,   281,   282,   283,\n",
       "          284,   285,   286,   287,   288,   289,   290,   291,   292,\n",
       "          293,   294,   295,   296,   297,   298,   299,   300,   301,\n",
       "          302,   303,   304,   305,   306,   307,   308,   309,   310,\n",
       "          311,   312,   313,   314,   315,   316,   317,   318,   319,\n",
       "          320,   321,   322,   323,   324,   325,   326,   327,   328,\n",
       "          329,   330,   331,   332,   333,   334,   335,   336,   337,\n",
       "          338,   339,   340,   341,   342,   343,   344,   345,   346,\n",
       "          347,   348,   349,   350,   351,   352,   353,   354,   355,\n",
       "          356,   357,   358,   359,   360,   361,   362,   363,   364,\n",
       "          365,   366,   367,   368,   369,   370,   371,   372,   373,\n",
       "          374,   375,   376,   377,   378,   379,   380,   381,   382,\n",
       "          383,   384,   385,   386,   387,   388,   389,   390,   391,\n",
       "          392,   393,   394,   395,   396,   397,   398,   399,   400,\n",
       "          401,   402,   403,   404,   405,   406,   407,   408,   409,\n",
       "          410,   411,   412,   413,   414,   415,   416,   417,   418,\n",
       "          419,   420,   421,   422,   423,   424,   425,   426,   427,\n",
       "          428,   429,   430,   431,   432,   433,   434,   435,   436,\n",
       "          437,   438,   439,   440,   441,   442,   443,   444,   445,\n",
       "          446,   447,  5411,  5412,  5413,  5414,  5415,  5416,  5417,\n",
       "         5418,  5419,  5420,  5421,  5422,  5423,  5424,  5425,  5426,\n",
       "         5427,  5428,  7731,  7732,  7733,  7734,  7735,  7736,  7737,\n",
       "         7738,  7739,  7740,  7741,  7742,  7743,  7744,  7745,  7746,\n",
       "         7747,  7748,  7749,  7750,  7751,  7752,  7753,  7754,  7755,\n",
       "         7756,  7757,  7758,  7759,  7760,  7761,  7762,  7763,  7764,\n",
       "         7765,  7766,  7767,  7768,  7769,  7770,  7771,  7772,  7773,\n",
       "         7774,  7775,  7776,  7777,  7778,  7779,  7780,  7781,  7782,\n",
       "         7783,  7784,  7785,  7786,  7787,  7788,  7789,  7790,  7791,\n",
       "         7792,  7793,  7794,  7795,  7796,  8563,  8564,  8565,  8566,\n",
       "         8567,  8568,  8569,  8570,  8571,  8572,  8573,  8574,  8575,\n",
       "         8576,  8577,  8578,  8579,  8580,  8581,  8582,  8583,  8584,\n",
       "         8585,  8586,  8587,  8588,  8589,  8590,  8591,  8592,  8593,\n",
       "         8594,  8595,  8596,  8597,  8598,  8599,  8600,  8601,  8602,\n",
       "         8603,  8604,  8605,  8606,  8607,  8608,  8609,  8610,  8611,\n",
       "         8612,  8613,  8614,  8615,  8616,  8617,  8618,  8619,  8620,\n",
       "         8621,  8622,  8623,  8624,  8625,  8626,  8627,  8628,  8629,\n",
       "         8630,  8631,  8632,  8633,  8634,  8635,  8636,  8637,  8638,\n",
       "         8639,  8640,  8641,  8642,  8643,  8644,  8645,  8646,  8647,\n",
       "         8648,  8649,  8650,  8651,  8652,  8653,  8654,  8655,  8656,\n",
       "         8657,  8658,  8659,  8660,  8661,  8662,  8663,  8664,  8665,\n",
       "         8666,  8667,  8668,  8669,  8670,  8671,  8672,  8673,  8674,\n",
       "         8675,  8676,  8677,  8678,  8679,  8680,  8681,  8682,  8683,\n",
       "         8684,  8685,  8686,  8687,  8688,  8689,  8690,  8691,  8692,\n",
       "         8693,  8694,  8695,  8696,  8697,  8698,  8699,  8700,  8701,\n",
       "         8702,  8703,  8704,  8705,  8706,  8707,  8708,  8709,  8710,\n",
       "         8711,  8712,  8713,  8714,  8715,  8716,  8717,  8718,  8719,\n",
       "         8720,  8721,  8722,  8723,  8724,  8725,  8726, 10187, 10188,\n",
       "        10189, 10190, 10191, 10192, 10193, 10194, 10195, 10196, 10197,\n",
       "        10198, 10199, 10200, 10201, 10202, 10203, 10204, 10205, 10206,\n",
       "        10207, 10208, 10209, 10210, 10211, 10212, 10213, 10214, 10215,\n",
       "        10216, 10217, 10218, 10219, 10220, 10221, 10222, 10223, 10224,\n",
       "        10225, 10226, 10227, 10228, 10229, 10230, 10231, 10232, 10233,\n",
       "        10234, 10235, 10236, 10237, 10238, 10239, 10240, 10241, 10242,\n",
       "        10243, 10244, 10245, 10246, 10247, 10248, 10249, 10250, 10251,\n",
       "        10252, 10253, 10254, 10255, 10256, 10257, 10258, 10259, 10260,\n",
       "        10261, 10262, 10263, 10264, 10265, 10266, 10267, 10268, 10269,\n",
       "        10270, 10271, 10272, 10273, 10862, 10863, 10864, 10865, 10866,\n",
       "        10867, 10868, 10869, 10870, 10871, 10872, 10873, 10874, 10875,\n",
       "        10876, 10877, 10878], dtype=int64),)"
      ]
     },
     "execution_count": 2,
     "metadata": {},
     "output_type": "execute_result"
    }
   ],
   "source": [
    "missing = np.where(df[\"temp\"].isnull() == True)\n",
    "missing"
   ]
  },
  {
   "cell_type": "code",
   "execution_count": 3,
   "metadata": {},
   "outputs": [
    {
     "data": {
      "text/plain": [
       "597"
      ]
     },
     "execution_count": 3,
     "metadata": {},
     "output_type": "execute_result"
    }
   ],
   "source": [
    "len(missing[0])"
   ]
  },
  {
   "cell_type": "markdown",
   "metadata": {},
   "source": [
    "### Interpretation: there are 597 missing values for temp"
   ]
  },
  {
   "cell_type": "code",
   "execution_count": 4,
   "metadata": {},
   "outputs": [
    {
     "data": {
      "text/plain": [
       "<matplotlib.axes._subplots.AxesSubplot at 0x2d8e82ca278>"
      ]
     },
     "execution_count": 4,
     "metadata": {},
     "output_type": "execute_result"
    },
    {
     "data": {
      "image/png": "[encoded data removed]",
      "text/plain": [
       "<matplotlib.figure.Figure at 0x2d8e79189e8>"
      ]
     },
     "metadata": {},
     "output_type": "display_data"
    }
   ],
   "source": [
    "df[\"temp\"].plot(kind=\"box\",figsize=(5,5))"
   ]
  },
  {
   "cell_type": "markdown",
   "metadata": {},
   "source": [
    "### Interpretation: there are no outliers for temp"
   ]
  },
  {
   "cell_type": "code",
   "execution_count": 5,
   "metadata": {},
   "outputs": [
    {
     "data": {
      "text/plain": [
       "array([[<matplotlib.axes._subplots.AxesSubplot object at 0x000002D8E7E59E48>]], dtype=object)"
      ]
     },
     "execution_count": 5,
     "metadata": {},
     "output_type": "execute_result"
    },
    {
     "data": {
      "image/png": "[encoded data removed]",
      "text/plain": [
       "<matplotlib.figure.Figure at 0x2d8e7973f60>"
      ]
     },
     "metadata": {},
     "output_type": "display_data"
    }
   ],
   "source": [
    "df.hist(column='temp',    # Column to plot\n",
    "                   figsize=(9,5),   # Plot size\n",
    "                   bins=20)         # Number of histogram bins"
   ]
  },
  {
   "cell_type": "code",
   "execution_count": 6,
   "metadata": {},
   "outputs": [
    {
     "data": {
      "text/plain": [
       "count    10289.000000\n",
       "mean        20.357901\n",
       "std          7.617266\n",
       "min          0.820000\n",
       "25%         13.940000\n",
       "50%         20.500000\n",
       "75%         26.240000\n",
       "max         41.000000\n",
       "Name: temp, dtype: float64"
      ]
     },
     "execution_count": 6,
     "metadata": {},
     "output_type": "execute_result"
    }
   ],
   "source": [
    "df[\"temp\"].describe() # in most cases, you would use median rather than mean, because less affect by outliers"
   ]
  },
  {
   "cell_type": "markdown",
   "metadata": {},
   "source": [
    "### Interpretation: we will replace the missing values with median"
   ]
  },
  {
   "cell_type": "code",
   "execution_count": 7,
   "metadata": {},
   "outputs": [
    {
     "data": {
      "text/plain": [
       "count    10886.000000\n",
       "mean        20.365694\n",
       "std          7.405502\n",
       "min          0.820000\n",
       "25%         14.760000\n",
       "50%         20.500000\n",
       "75%         26.240000\n",
       "max         41.000000\n",
       "Name: temp, dtype: float64"
      ]
     },
     "execution_count": 7,
     "metadata": {},
     "output_type": "execute_result"
    }
   ],
   "source": [
    "new_temp_var = np.where(df[\"temp\"].isnull(), # Logical check\n",
    "                       20.5,                 # Value if check is true\n",
    "                       df[\"temp\"])          # Value if check is false\n",
    "\n",
    "                                            # like a replace function\n",
    "\n",
    "df[\"temp\"] = new_temp_var \n",
    "\n",
    "df[\"temp\"].describe()"
   ]
  },
  {
   "cell_type": "code",
   "execution_count": 11,
   "metadata": {},
   "outputs": [
    {
     "data": {
      "text/plain": [
       "0"
      ]
     },
     "execution_count": 11,
     "metadata": {},
     "output_type": "execute_result"
    }
   ],
   "source": [
    "missing = np.where(df[\"temp\"].isnull()==True)\n",
    "len(missing[0])"
   ]
  },
  {
   "cell_type": "code",
   "execution_count": 12,
   "metadata": {},
   "outputs": [
    {
     "data": {
      "text/plain": [
       "array([[<matplotlib.axes._subplots.AxesSubplot object at 0x000002D8E7FCFAC8>]], dtype=object)"
      ]
     },
     "execution_count": 12,
     "metadata": {},
     "output_type": "execute_result"
    },
    {
     "data": {
      "image/png": "[encoded data removed]",
      "text/plain": [
       "<matplotlib.figure.Figure at 0x2d8e817df60>"
      ]
     },
     "metadata": {},
     "output_type": "display_data"
    }
   ],
   "source": [
    "df.hist(column='temp',    # Column to plot\n",
    "                   figsize=(9,5),   # Plot size\n",
    "                   bins=20)         # Number of histogram bins"
   ]
  }
 ],
 "metadata": {
  "kernelspec": {
   "display_name": "Python 3",
   "language": "python",
   "name": "python3"
  },
  "language_info": {
   "codemirror_mode": {
    "name": "ipython",
    "version": 3
   },
   "file_extension": ".py",
   "mimetype": "text/x-python",
   "name": "python",
   "nbconvert_exporter": "python",
   "pygments_lexer": "ipython3",
   "version": "3.6.1"
  }
 },
 "nbformat": 4,
 "nbformat_minor": 2
}
