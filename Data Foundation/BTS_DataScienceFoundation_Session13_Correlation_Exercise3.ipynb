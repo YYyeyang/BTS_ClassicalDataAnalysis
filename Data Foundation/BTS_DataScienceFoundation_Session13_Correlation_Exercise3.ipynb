{
 "cells": [
  {
   "cell_type": "markdown",
   "metadata": {},
   "source": [
    "# Subject: Data Science Foundation\n",
    "\n",
    "## Session 13 - Correlation in Python.\n",
    "\n",
    "### Exercise 3 -  Calculating Correlation in Pandas\n"
   ]
  },
  {
   "cell_type": "markdown",
   "metadata": {},
   "source": [
    "We will be using a dataset \"Iris\". Calculate the Pearson correlation of sepal length in cm, sepal width in cm, petal length in cm and petal width in cm."
   ]
  },
  {
   "cell_type": "code",
   "execution_count": 1,
   "metadata": {
    "scrolled": false
   },
   "outputs": [],
   "source": [
    "import pandas as pd\n",
    "import numpy as np\n",
    "from sklearn import datasets, linear_model\n",
    "import matplotlib.pyplot as plt\n",
    "%matplotlib inline\n",
    "iris = datasets.load_iris()"
   ]
  },
  {
   "cell_type": "code",
   "execution_count": 2,
   "metadata": {
    "scrolled": true
   },
   "outputs": [
    {
     "name": "stdout",
     "output_type": "stream",
     "text": [
      "Iris Plants Database\n",
      "====================\n",
      "\n",
      "Notes\n",
      "-----\n",
      "Data Set Characteristics:\n",
      "    :Number of Instances: 150 (50 in each of three classes)\n",
      "    :Number of Attributes: 4 numeric, predictive attributes and the class\n",
      "    :Attribute Information:\n",
      "        - sepal length in cm\n",
      "        - sepal width in cm\n",
      "        - petal length in cm\n",
      "        - petal width in cm\n",
      "        - class:\n",
      "                - Iris-Setosa\n",
      "                - Iris-Versicolour\n",
      "                - Iris-Virginica\n",
      "    :Summary Statistics:\n",
      "\n",
      "    ============== ==== ==== ======= ===== ====================\n",
      "                    Min  Max   Mean    SD   Class Correlation\n",
      "    ============== ==== ==== ======= ===== ====================\n",
      "    sepal length:   4.3  7.9   5.84   0.83    0.7826\n",
      "    sepal width:    2.0  4.4   3.05   0.43   -0.4194\n",
      "    petal length:   1.0  6.9   3.76   1.76    0.9490  (high!)\n",
      "    petal width:    0.1  2.5   1.20  0.76     0.9565  (high!)\n",
      "    ============== ==== ==== ======= ===== ====================\n",
      "\n",
      "    :Missing Attribute Values: None\n",
      "    :Class Distribution: 33.3% for each of 3 classes.\n",
      "    :Creator: R.A. Fisher\n",
      "    :Donor: Michael Marshall (MARSHALL%PLU@io.arc.nasa.gov)\n",
      "    :Date: July, 1988\n",
      "\n",
      "This is a copy of UCI ML iris datasets.\n",
      "http://archive.ics.uci.edu/ml/datasets/Iris\n",
      "\n",
      "The famous Iris database, first used by Sir R.A Fisher\n",
      "\n",
      "This is perhaps the best known database to be found in the\n",
      "pattern recognition literature.  Fisher's paper is a classic in the field and\n",
      "is referenced frequently to this day.  (See Duda & Hart, for example.)  The\n",
      "data set contains 3 classes of 50 instances each, where each class refers to a\n",
      "type of iris plant.  One class is linearly separable from the other 2; the\n",
      "latter are NOT linearly separable from each other.\n",
      "\n",
      "References\n",
      "----------\n",
      "   - Fisher,R.A. \"The use of multiple measurements in taxonomic problems\"\n",
      "     Annual Eugenics, 7, Part II, 179-188 (1936); also in \"Contributions to\n",
      "     Mathematical Statistics\" (John Wiley, NY, 1950).\n",
      "   - Duda,R.O., & Hart,P.E. (1973) Pattern Classification and Scene Analysis.\n",
      "     (Q327.D83) John Wiley & Sons.  ISBN 0-471-22361-1.  See page 218.\n",
      "   - Dasarathy, B.V. (1980) \"Nosing Around the Neighborhood: A New System\n",
      "     Structure and Classification Rule for Recognition in Partially Exposed\n",
      "     Environments\".  IEEE Transactions on Pattern Analysis and Machine\n",
      "     Intelligence, Vol. PAMI-2, No. 1, 67-71.\n",
      "   - Gates, G.W. (1972) \"The Reduced Nearest Neighbor Rule\".  IEEE Transactions\n",
      "     on Information Theory, May 1972, 431-433.\n",
      "   - See also: 1988 MLC Proceedings, 54-64.  Cheeseman et al\"s AUTOCLASS II\n",
      "     conceptual clustering system finds 3 classes in the data.\n",
      "   - Many, many more ...\n",
      "\n"
     ]
    }
   ],
   "source": [
    "print (iris.DESCR)"
   ]
  },
  {
   "cell_type": "code",
   "execution_count": 4,
   "metadata": {},
   "outputs": [
    {
     "data": {
      "text/html": [
       "<div>\n",
       "<style scoped>\n",
       "    .dataframe tbody tr th:only-of-type {\n",
       "        vertical-align: middle;\n",
       "    }\n",
       "\n",
       "    .dataframe tbody tr th {\n",
       "        vertical-align: top;\n",
       "    }\n",
       "\n",
       "    .dataframe thead th {\n",
       "        text-align: right;\n",
       "    }\n",
       "</style>\n",
       "<table border=\"1\" class=\"dataframe\">\n",
       "  <thead>\n",
       "    <tr style=\"text-align: right;\">\n",
       "      <th></th>\n",
       "      <th>sepal length (cm)</th>\n",
       "      <th>sepal width (cm)</th>\n",
       "      <th>petal length (cm)</th>\n",
       "      <th>petal width (cm)</th>\n",
       "    </tr>\n",
       "  </thead>\n",
       "  <tbody>\n",
       "    <tr>\n",
       "      <th>0</th>\n",
       "      <td>5.1</td>\n",
       "      <td>3.5</td>\n",
       "      <td>1.4</td>\n",
       "      <td>0.2</td>\n",
       "    </tr>\n",
       "    <tr>\n",
       "      <th>1</th>\n",
       "      <td>4.9</td>\n",
       "      <td>3.0</td>\n",
       "      <td>1.4</td>\n",
       "      <td>0.2</td>\n",
       "    </tr>\n",
       "    <tr>\n",
       "      <th>2</th>\n",
       "      <td>4.7</td>\n",
       "      <td>3.2</td>\n",
       "      <td>1.3</td>\n",
       "      <td>0.2</td>\n",
       "    </tr>\n",
       "    <tr>\n",
       "      <th>3</th>\n",
       "      <td>4.6</td>\n",
       "      <td>3.1</td>\n",
       "      <td>1.5</td>\n",
       "      <td>0.2</td>\n",
       "    </tr>\n",
       "    <tr>\n",
       "      <th>4</th>\n",
       "      <td>5.0</td>\n",
       "      <td>3.6</td>\n",
       "      <td>1.4</td>\n",
       "      <td>0.2</td>\n",
       "    </tr>\n",
       "  </tbody>\n",
       "</table>\n",
       "</div>"
      ],
      "text/plain": [
       "   sepal length (cm)  sepal width (cm)  petal length (cm)  petal width (cm)\n",
       "0                5.1               3.5                1.4               0.2\n",
       "1                4.9               3.0                1.4               0.2\n",
       "2                4.7               3.2                1.3               0.2\n",
       "3                4.6               3.1                1.5               0.2\n",
       "4                5.0               3.6                1.4               0.2"
      ]
     },
     "execution_count": 4,
     "metadata": {},
     "output_type": "execute_result"
    }
   ],
   "source": [
    "df_iris = pd.DataFrame(iris.data, columns=iris.feature_names)\n",
    "df_iris.head()"
   ]
  },
  {
   "cell_type": "code",
   "execution_count": 5,
   "metadata": {},
   "outputs": [
    {
     "data": {
      "text/html": [
       "<div>\n",
       "<style scoped>\n",
       "    .dataframe tbody tr th:only-of-type {\n",
       "        vertical-align: middle;\n",
       "    }\n",
       "\n",
       "    .dataframe tbody tr th {\n",
       "        vertical-align: top;\n",
       "    }\n",
       "\n",
       "    .dataframe thead th {\n",
       "        text-align: right;\n",
       "    }\n",
       "</style>\n",
       "<table border=\"1\" class=\"dataframe\">\n",
       "  <thead>\n",
       "    <tr style=\"text-align: right;\">\n",
       "      <th></th>\n",
       "      <th>sepal length (cm)</th>\n",
       "      <th>sepal width (cm)</th>\n",
       "      <th>petal length (cm)</th>\n",
       "      <th>petal width (cm)</th>\n",
       "    </tr>\n",
       "  </thead>\n",
       "  <tbody>\n",
       "    <tr>\n",
       "      <th>sepal length (cm)</th>\n",
       "      <td>1.000000</td>\n",
       "      <td>-0.109369</td>\n",
       "      <td>0.871754</td>\n",
       "      <td>0.817954</td>\n",
       "    </tr>\n",
       "    <tr>\n",
       "      <th>sepal width (cm)</th>\n",
       "      <td>-0.109369</td>\n",
       "      <td>1.000000</td>\n",
       "      <td>-0.420516</td>\n",
       "      <td>-0.356544</td>\n",
       "    </tr>\n",
       "    <tr>\n",
       "      <th>petal length (cm)</th>\n",
       "      <td>0.871754</td>\n",
       "      <td>-0.420516</td>\n",
       "      <td>1.000000</td>\n",
       "      <td>0.962757</td>\n",
       "    </tr>\n",
       "    <tr>\n",
       "      <th>petal width (cm)</th>\n",
       "      <td>0.817954</td>\n",
       "      <td>-0.356544</td>\n",
       "      <td>0.962757</td>\n",
       "      <td>1.000000</td>\n",
       "    </tr>\n",
       "  </tbody>\n",
       "</table>\n",
       "</div>"
      ],
      "text/plain": [
       "                   sepal length (cm)  sepal width (cm)  petal length (cm)  \\\n",
       "sepal length (cm)           1.000000         -0.109369           0.871754   \n",
       "sepal width (cm)           -0.109369          1.000000          -0.420516   \n",
       "petal length (cm)           0.871754         -0.420516           1.000000   \n",
       "petal width (cm)            0.817954         -0.356544           0.962757   \n",
       "\n",
       "                   petal width (cm)  \n",
       "sepal length (cm)          0.817954  \n",
       "sepal width (cm)          -0.356544  \n",
       "petal length (cm)          0.962757  \n",
       "petal width (cm)           1.000000  "
      ]
     },
     "execution_count": 5,
     "metadata": {},
     "output_type": "execute_result"
    }
   ],
   "source": [
    "df_iris.corr(method='pearson')"
   ]
  },
  {
   "cell_type": "code",
   "execution_count": 7,
   "metadata": {},
   "outputs": [
    {
     "data": {
      "text/html": [
       "<style  type=\"text/css\" >\n",
       "    #T_0a6213d0_ce40_11e7_8b81_5800e3d29540row0_col0 {\n",
       "            background-color:  #b40426;\n",
       "        }    #T_0a6213d0_ce40_11e7_8b81_5800e3d29540row0_col1 {\n",
       "            background-color:  #3b4cc0;\n",
       "        }    #T_0a6213d0_ce40_11e7_8b81_5800e3d29540row0_col2 {\n",
       "            background-color:  #da5a49;\n",
       "        }    #T_0a6213d0_ce40_11e7_8b81_5800e3d29540row0_col3 {\n",
       "            background-color:  #e7745b;\n",
       "        }    #T_0a6213d0_ce40_11e7_8b81_5800e3d29540row1_col0 {\n",
       "            background-color:  #82a6fb;\n",
       "        }    #T_0a6213d0_ce40_11e7_8b81_5800e3d29540row1_col1 {\n",
       "            background-color:  #b40426;\n",
       "        }    #T_0a6213d0_ce40_11e7_8b81_5800e3d29540row1_col2 {\n",
       "            background-color:  #3b4cc0;\n",
       "        }    #T_0a6213d0_ce40_11e7_8b81_5800e3d29540row1_col3 {\n",
       "            background-color:  #485fd1;\n",
       "        }    #T_0a6213d0_ce40_11e7_8b81_5800e3d29540row2_col0 {\n",
       "            background-color:  #d44e41;\n",
       "        }    #T_0a6213d0_ce40_11e7_8b81_5800e3d29540row2_col1 {\n",
       "            background-color:  #3b4cc0;\n",
       "        }    #T_0a6213d0_ce40_11e7_8b81_5800e3d29540row2_col2 {\n",
       "            background-color:  #b40426;\n",
       "        }    #T_0a6213d0_ce40_11e7_8b81_5800e3d29540row2_col3 {\n",
       "            background-color:  #bd1f2d;\n",
       "        }    #T_0a6213d0_ce40_11e7_8b81_5800e3d29540row3_col0 {\n",
       "            background-color:  #e0654f;\n",
       "        }    #T_0a6213d0_ce40_11e7_8b81_5800e3d29540row3_col1 {\n",
       "            background-color:  #3b4cc0;\n",
       "        }    #T_0a6213d0_ce40_11e7_8b81_5800e3d29540row3_col2 {\n",
       "            background-color:  #be242e;\n",
       "        }    #T_0a6213d0_ce40_11e7_8b81_5800e3d29540row3_col3 {\n",
       "            background-color:  #b40426;\n",
       "        }</style>  \n",
       "<table id=\"T_0a6213d0_ce40_11e7_8b81_5800e3d29540\" > \n",
       "<thead>    <tr> \n",
       "        <th class=\"blank level0\" ></th> \n",
       "        <th class=\"col_heading level0 col0\" >sepal length (cm)</th> \n",
       "        <th class=\"col_heading level0 col1\" >sepal width (cm)</th> \n",
       "        <th class=\"col_heading level0 col2\" >petal length (cm)</th> \n",
       "        <th class=\"col_heading level0 col3\" >petal width (cm)</th> \n",
       "    </tr></thead> \n",
       "<tbody>    <tr> \n",
       "        <th id=\"T_0a6213d0_ce40_11e7_8b81_5800e3d29540level0_row0\" class=\"row_heading level0 row0\" >sepal length (cm)</th> \n",
       "        <td id=\"T_0a6213d0_ce40_11e7_8b81_5800e3d29540row0_col0\" class=\"data row0 col0\" >1e+00</td> \n",
       "        <td id=\"T_0a6213d0_ce40_11e7_8b81_5800e3d29540row0_col1\" class=\"data row0 col1\" >-0.1</td> \n",
       "        <td id=\"T_0a6213d0_ce40_11e7_8b81_5800e3d29540row0_col2\" class=\"data row0 col2\" >0.9</td> \n",
       "        <td id=\"T_0a6213d0_ce40_11e7_8b81_5800e3d29540row0_col3\" class=\"data row0 col3\" >0.8</td> \n",
       "    </tr>    <tr> \n",
       "        <th id=\"T_0a6213d0_ce40_11e7_8b81_5800e3d29540level0_row1\" class=\"row_heading level0 row1\" >sepal width (cm)</th> \n",
       "        <td id=\"T_0a6213d0_ce40_11e7_8b81_5800e3d29540row1_col0\" class=\"data row1 col0\" >-0.1</td> \n",
       "        <td id=\"T_0a6213d0_ce40_11e7_8b81_5800e3d29540row1_col1\" class=\"data row1 col1\" >1e+00</td> \n",
       "        <td id=\"T_0a6213d0_ce40_11e7_8b81_5800e3d29540row1_col2\" class=\"data row1 col2\" >-0.4</td> \n",
       "        <td id=\"T_0a6213d0_ce40_11e7_8b81_5800e3d29540row1_col3\" class=\"data row1 col3\" >-0.4</td> \n",
       "    </tr>    <tr> \n",
       "        <th id=\"T_0a6213d0_ce40_11e7_8b81_5800e3d29540level0_row2\" class=\"row_heading level0 row2\" >petal length (cm)</th> \n",
       "        <td id=\"T_0a6213d0_ce40_11e7_8b81_5800e3d29540row2_col0\" class=\"data row2 col0\" >0.9</td> \n",
       "        <td id=\"T_0a6213d0_ce40_11e7_8b81_5800e3d29540row2_col1\" class=\"data row2 col1\" >-0.4</td> \n",
       "        <td id=\"T_0a6213d0_ce40_11e7_8b81_5800e3d29540row2_col2\" class=\"data row2 col2\" >1e+00</td> \n",
       "        <td id=\"T_0a6213d0_ce40_11e7_8b81_5800e3d29540row2_col3\" class=\"data row2 col3\" >1e+00</td> \n",
       "    </tr>    <tr> \n",
       "        <th id=\"T_0a6213d0_ce40_11e7_8b81_5800e3d29540level0_row3\" class=\"row_heading level0 row3\" >petal width (cm)</th> \n",
       "        <td id=\"T_0a6213d0_ce40_11e7_8b81_5800e3d29540row3_col0\" class=\"data row3 col0\" >0.8</td> \n",
       "        <td id=\"T_0a6213d0_ce40_11e7_8b81_5800e3d29540row3_col1\" class=\"data row3 col1\" >-0.4</td> \n",
       "        <td id=\"T_0a6213d0_ce40_11e7_8b81_5800e3d29540row3_col2\" class=\"data row3 col2\" >1e+00</td> \n",
       "        <td id=\"T_0a6213d0_ce40_11e7_8b81_5800e3d29540row3_col3\" class=\"data row3 col3\" >1e+00</td> \n",
       "    </tr></tbody> \n",
       "</table> "
      ],
      "text/plain": [
       "<pandas.io.formats.style.Styler at 0x22677b589b0>"
      ]
     },
     "execution_count": 7,
     "metadata": {},
     "output_type": "execute_result"
    }
   ],
   "source": [
    "df_iris.corr(method='pearson').style.format(\"{:.1}\").background_gradient(cmap=plt.get_cmap('coolwarm'), axis=1)"
   ]
  },
  {
   "cell_type": "markdown",
   "metadata": {},
   "source": [
    "# Conclusion: "
   ]
  },
  {
   "cell_type": "markdown",
   "metadata": {},
   "source": [
    "There is really high correlation between sepal length and petal length, also between sepal length and petal width, while petal length and petal width is also highly correlated, so we have to seperate petal length and petal width when we run the model."
   ]
  }
 ],
 "metadata": {
  "kernelspec": {
   "display_name": "Python 3",
   "language": "python",
   "name": "python3"
  },
  "language_info": {
   "codemirror_mode": {
    "name": "ipython",
    "version": 3
   },
   "file_extension": ".py",
   "mimetype": "text/x-python",
   "name": "python",
   "nbconvert_exporter": "python",
   "pygments_lexer": "ipython3",
   "version": "3.6.1"
  }
 },
 "nbformat": 4,
 "nbformat_minor": 2
}
